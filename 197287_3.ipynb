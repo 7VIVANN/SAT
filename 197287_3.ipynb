{
 "cells": [
  {
   "cell_type": "markdown",
   "id": "b077ac89",
   "metadata": {},
   "source": [
    "# 1st QUESTION"
   ]
  },
  {
   "cell_type": "code",
   "execution_count": 1,
   "id": "b4ec8220",
   "metadata": {},
   "outputs": [
    {
     "name": "stdout",
     "output_type": "stream",
     "text": [
      "[2, 3, 5, 7, 11, 13, 17, 19, 23, 29, 31, 37, 41, 43, 47, 53, 59, 61, 67, 71, 73, 79, 83, 89, 97, 101, 103, 107, 109, 113, 127, 131, 137, 139, 149, 151, 157, 163, 167, 173, 179, 181, 191, 193, 197, 199, 211, 223, 227, 229, 233, 239, 241, 251, 257, 263, 269, 271, 277, 281, 283, 293, 307, 311, 313, 317, 331, 337, 347, 349, 353, 359, 367, 373, 379, 383, 389, 397, 401, 409, 419, 421, 431, 433, 439, 443, 449, 457, 461, 463, 467, 479, 487, 491, 499, 503, 509, 521, 523, 541, 547, 557, 563, 569, 571, 577, 587, 593, 599, 601, 607, 613, 617, 619, 631, 641, 643, 647, 653, 659, 661, 673, 677, 683, 691, 701, 709, 719, 727, 733, 739, 743, 751, 757, 761, 769, 773, 787, 797, 809, 811, 821, 823, 827, 829, 839, 853, 857, 859, 863, 877, 881, 883, 887, 907, 911, 919, 929, 937, 941, 947, 953, 967, 971, 977, 983, 991, 997]\n"
     ]
    }
   ],
   "source": [
    "import numpy as np\n",
    "primes=[]\n",
    "for i in range(1,1001):\n",
    "    if(i==1):\n",
    "        continue\n",
    "    prime=1\n",
    "    for j in range(2,1+np.sqrt(i).astype(\"int\")):\n",
    "        if(i%j==0): # means j is factor of i \n",
    "            prime=0 # for i to be prime it shouldnt have any factors\n",
    "    if(prime==1):\n",
    "        primes.append(i)\n",
    "print(primes)"
   ]
  },
  {
   "cell_type": "markdown",
   "id": "64bdfd2b",
   "metadata": {},
   "source": [
    "# 2nd QUESTION"
   ]
  },
  {
   "cell_type": "code",
   "execution_count": 2,
   "id": "9f52e5d9",
   "metadata": {},
   "outputs": [
    {
     "name": "stdout",
     "output_type": "stream",
     "text": [
      "Enter length of array  10\n",
      "Enter Elements of array : 6 9 5 8 3 2 1 4 7 0\n",
      "Pass Number 1 : [6 5 8 3 2 1 4 7 0 9] \n",
      "Pass Number 2 : [5 6 3 2 1 4 7 0 8 9] \n",
      "Pass Number 3 : [5 3 2 1 4 6 0 7 8 9] \n",
      "Pass Number 4 : [3 2 1 4 5 0 6 7 8 9] \n",
      "Pass Number 5 : [2 1 3 4 0 5 6 7 8 9] \n",
      "Pass Number 6 : [1 2 3 0 4 5 6 7 8 9] \n",
      "Pass Number 7 : [1 2 0 3 4 5 6 7 8 9] \n",
      "Pass Number 8 : [1 0 2 3 4 5 6 7 8 9] \n",
      "Pass Number 9 : [0 1 2 3 4 5 6 7 8 9] \n",
      "Pass Number 10 : [0 1 2 3 4 5 6 7 8 9] \n",
      "Finally the Sorted array is [0 1 2 3 4 5 6 7 8 9]\n"
     ]
    }
   ],
   "source": [
    "import numpy as np\n",
    "def bubble_sort(n,arr):\n",
    "    for i in range(n):\n",
    "        for j in range(n-1):\n",
    "            if(arr[j]>arr[j+1]):\n",
    "                arr[j],arr[j+1]=arr[j+1],arr[j] # swapping\n",
    "        print(\"Pass Number {} : {} \".format(i+1,arr))\n",
    "    return arr\n",
    "# taking input\n",
    "n=int(input(\"Enter length of array  \"))\n",
    "L=[]\n",
    "while(len(L)<n):\n",
    "    L.extend(list(map(int,input(\"Enter Elements of array : \").strip().split()))) #Taking input at once means user can type \n",
    "    #all the n numbers at once with space\n",
    "L=L[:n]   # list value should be n ( if length id greater than n then we are slicing to n elements)\n",
    "# input taken\n",
    "arr=np.array(L)\n",
    "sorted_arr=bubble_sort(n,arr)\n",
    "print(\"Finally the Sorted array is {}\".format(sorted_arr))"
   ]
  },
  {
   "cell_type": "markdown",
   "id": "e4ac4ec7",
   "metadata": {},
   "source": [
    "# 3rd QUESTION "
   ]
  },
  {
   "cell_type": "code",
   "execution_count": 3,
   "id": "82fe59f3",
   "metadata": {},
   "outputs": [
    {
     "name": "stdout",
     "output_type": "stream",
     "text": [
      "Enter number of Rows : 3\n",
      "Enter number of Columns : 2\n",
      "Enter Matrix 1 : \n",
      "Enter Elements of row 1 : 2 2\n",
      "Enter Elements of row 2 : 1 1\n",
      "Enter Elements of row 3 : 3 3\n",
      "Enter Matrix 2 : \n",
      "Enter Elements of row 1 : 0 0\n",
      "Enter Elements of row 2 : 1 5\n",
      "Enter Elements of row 3 : 6 9\n",
      "Final Matrix on adding given two matrixes : \n",
      " [[ 2  2]\n",
      " [ 2  6]\n",
      " [ 9 12]] \n"
     ]
    }
   ],
   "source": [
    "r=int(input(\"Enter number of Rows : \"))\n",
    "c=int(input(\"Enter number of Columns : \"))\n",
    "def TakeInput():\n",
    "    A=[]\n",
    "    for i in range(r):\n",
    "        L=[]\n",
    "        while(len(L)<c):\n",
    "            L.extend(list(map(int,input(\"Enter Elements of row {} : \".format(i+1)).strip().split()))) #Taking input at \n",
    "            #once means user can type all the n numbers at once with space\n",
    "        L=L[:c]   # list value should be c ( if length id greater than n then we are slicing to c elements)\n",
    "        A.append(L)   \n",
    "    return A\n",
    "def AddMatrixes(A,B):\n",
    "    C=[]\n",
    "    for i in range(r):\n",
    "        C.append([A[i][j]+B[i][j] for j in range(c)]) # list comprehension\n",
    "    # C=[[A[i][j]+B[i][j] for j in range(c)] for i in range(r)]\n",
    "    # we can write in one line also like above using list comprehension\n",
    "    return C\n",
    "print(\"Enter Matrix 1 : \")\n",
    "A=TakeInput()\n",
    "print(\"Enter Matrix 2 : \")\n",
    "B=TakeInput()\n",
    "C=AddMatrixes(A,B)\n",
    "print(\"Final Matrix on adding given two matrixes : \\n {} \".format(np.matrix(C)))\n"
   ]
  },
  {
   "cell_type": "markdown",
   "id": "c62cfeb2",
   "metadata": {},
   "source": [
    "# 4rth QUESTION "
   ]
  },
  {
   "cell_type": "code",
   "execution_count": 4,
   "id": "08b56c39",
   "metadata": {},
   "outputs": [
    {
     "name": "stdout",
     "output_type": "stream",
     "text": [
      "----ITERATIVE----\n",
      "Enter length of array  6\n",
      "Enter Elements of array : 1 2 3 5 6 8\n",
      "Enter Element to be checked : 4\n",
      "4 Not found \n",
      "----RECURSIVE----\n",
      "Enter length of array  7\n",
      "Enter Elements of array : 3 6 9 10 15 18 20\n",
      "Enter Element to be checked : 3\n",
      "3 Found !!!\n"
     ]
    }
   ],
   "source": [
    "def iterative(L,x):\n",
    "    L.sort() # making sure that list is sorted\n",
    "    l=0\n",
    "    r=len(L)-1;\n",
    "    while(l<r):\n",
    "        m=(l+r)//2;\n",
    "        if(L[m]>=x): # means x can be found in left part\n",
    "            r=m;\n",
    "        else: # means x can be found in right part \n",
    "            l=m+1;\n",
    "    if(L[l]==x):\n",
    "        print(\"{} Found !!!\".format(x))\n",
    "    else:\n",
    "        print(\"{} Not found \".format(x))\n",
    "\n",
    "def helper(L,x,l,r):\n",
    "    if(l>r): return False;\n",
    "    m=(l+r)//2;\n",
    "    if(L[m]==x): return True;\n",
    "    if(L[m]>x):\n",
    "        return helper(L,x,l,m-1)\n",
    "    else:\n",
    "        return helper(L,x,m+1,r)\n",
    "    \n",
    "def recursive(L,x):\n",
    "    L.sort() # making sure that list is sorted\n",
    "    l=0\n",
    "    r=len(L)-1; \n",
    "    ans=helper(L,x,l,r)\n",
    "    if(ans==True):\n",
    "        print(\"{} Found !!!\".format(x))\n",
    "    else:\n",
    "        print(\"{} Not found \".format(x)) \n",
    "        \n",
    "print(\"----ITERATIVE----\")\n",
    "n=int(input(\"Enter length of array  \"))\n",
    "L=[]\n",
    "while(len(L)<n):\n",
    "    L.extend(list(map(int,input(\"Enter Elements of array : \").strip().split()))) #Taking input at once means user can type \n",
    "    #all the n numbers at once with space\n",
    "L=L[:n]   # list value should be n ( if length id greater than n then we are slicing to n elements)\n",
    "x=int(input(\"Enter Element to be checked : \"))\n",
    "iterative(L,x)\n",
    "\n",
    "print(\"----RECURSIVE----\")\n",
    "n=int(input(\"Enter length of array  \"))\n",
    "L=[]\n",
    "while(len(L)<n):\n",
    "    L.extend(list(map(int,input(\"Enter Elements of array : \").strip().split()))) #Taking input at once means user can type \n",
    "    #all the n numbers at once with space\n",
    "L=L[:n]   # list value should be n ( if length id greater than n then we are slicing to n elements)\n",
    "x=int(input(\"Enter Element to be checked : \"))\n",
    "recursive(L,x)"
   ]
  },
  {
   "cell_type": "markdown",
   "id": "6e364f6a",
   "metadata": {},
   "source": [
    "# 5th QUESTION PART A"
   ]
  },
  {
   "cell_type": "code",
   "execution_count": 5,
   "id": "4226d708",
   "metadata": {},
   "outputs": [
    {
     "name": "stdout",
     "output_type": "stream",
     "text": [
      "Enter Length of array 5\n",
      "Enter Elements of array1 : 3 6 9 8 5\n",
      "Enter Elements of array2 : 7 5 1 4 8\n",
      "[1, 2, 3]\n"
     ]
    }
   ],
   "source": [
    "n=int(input(\"Enter Length of array \"))\n",
    "L=[]\n",
    "while(len(L)<n):\n",
    "    L.extend(list(map(int,input(\"Enter Elements of array1 : \").strip().split()))) #Taking input at once means user can type \n",
    "    #all the n numbers at once with space\n",
    "L=L[:n]   # list value should be n ( if length id greater than n then we are slicing to n elements)\n",
    "arr1=np.array(L)\n",
    "L=[]\n",
    "while(len(L)<n):\n",
    "    L.extend(list(map(int,input(\"Enter Elements of array2 : \").strip().split()))) #Taking input at once means user can type \n",
    "    #all the n numbers at once with space\n",
    "L=L[:n]   # list value should be n ( if length id greater than n then we are slicing to n elements)\n",
    "arr2=np.array(L)\n",
    "idx=[]\n",
    "for i in range(n):\n",
    "    if(arr1[i]>=arr2[i]):\n",
    "        idx.append(i)\n",
    "    \n",
    "print(idx)  #index of the arrays where the value of elements in 1st array is more than and equal to its corresponding\n",
    "#element in 2nd array."
   ]
  },
  {
   "cell_type": "markdown",
   "id": "d5e478cf",
   "metadata": {},
   "source": [
    "# 5th QUESTION PART B"
   ]
  },
  {
   "cell_type": "code",
   "execution_count": 6,
   "id": "db3baf55",
   "metadata": {},
   "outputs": [
    {
     "name": "stdout",
     "output_type": "stream",
     "text": [
      "Enter Length of array 5\n",
      "Enter Elements of array : 2 5 8 9 6\n",
      "Replaced all even numbers in the array with 0 \n",
      "[0 5 0 9 0]\n"
     ]
    }
   ],
   "source": [
    "# QUESTION : Replace all even numbers in the array with 0\n",
    "n=int(input(\"Enter Length of array \"))\n",
    "L=[]\n",
    "while(len(L)<n):\n",
    "    L.extend(list(map(int,input(\"Enter Elements of array : \").strip().split()))) #Taking input at once means user can type \n",
    "    #all the n numbers at once with space\n",
    "L=L[:n]  # list value should be n ( if length id greater than n then we are slicing to n elements)\n",
    "arr=np.array(L)\n",
    "for i in range(n):\n",
    "    if(arr[i]%2==0):\n",
    "        arr[i]=0\n",
    "print(\"Replaced all even numbers in the array with 0 \")\n",
    "print(arr)"
   ]
  },
  {
   "cell_type": "code",
   "execution_count": 7,
   "id": "b21c6ea6",
   "metadata": {
    "scrolled": true
   },
   "outputs": [
    {
     "name": "stdout",
     "output_type": "stream",
     "text": [
      "Enter Length of array 10\n",
      "Enter Elements of array : 9 6 5 8 7 4 1 2 3 0\n",
      "Primes Numbers are Extracted \n",
      "[5 7 2 3]\n"
     ]
    }
   ],
   "source": [
    "#QUESTION : Extract the prime numbers from the array\n",
    "import numpy as np\n",
    "def isprime(n):\n",
    "    if(n==0 or n==1): return False \n",
    "    if(n==2 or n==3): return True\n",
    "    for i in range(2,1+np.sqrt(n).astype(\"int\")):\n",
    "        if(n%i==0): return False\n",
    "    return True\n",
    "n=int(input(\"Enter Length of array \"))\n",
    "L=[]\n",
    "while(len(L)<n):\n",
    "    L.extend(list(map(int,input(\"Enter Elements of array : \").strip().split()))) #Taking input at once means user can type \n",
    "    #all the n numbers at once with space\n",
    "L=L[:n]   # list value should be n ( if length id greater than n then we are slicing to n elements)\n",
    "arr=np.array(L)\n",
    "L=[]\n",
    "for i in range(n):\n",
    "    if(isprime(arr[i])==True):\n",
    "        L.append(arr[i])\n",
    "arr=np.array(L)\n",
    "print(\"Primes Numbers are Extracted \")\n",
    "print(arr)"
   ]
  },
  {
   "cell_type": "code",
   "execution_count": 8,
   "id": "67c7971e",
   "metadata": {
    "scrolled": false
   },
   "outputs": [
    {
     "name": "stdout",
     "output_type": "stream",
     "text": [
      "Enter Length of array 5\n",
      "Enter even number length\n",
      "Enter Length of array 8\n",
      "Enter Elements of array : 1 2 5 9 6 3 8 7\n"
     ]
    },
    {
     "data": {
      "text/plain": [
       "array([[1, 2, 5, 9],\n",
       "       [6, 3, 8, 7]])"
      ]
     },
     "execution_count": 8,
     "metadata": {},
     "output_type": "execute_result"
    }
   ],
   "source": [
    "#QUESTION : Convert the 1D array to a 2D array in 2 rows Input\n",
    "n=1\n",
    "while(n%2!=0):\n",
    "    n=int(input(\"Enter Length of array \"))\n",
    "    if(n%2!=0): print(\"Enter even number length\")  # making sure that n value should be even\n",
    "L=[]\n",
    "while(len(L)<n):\n",
    "    L.extend(list(map(int,input(\"Enter Elements of array : \").strip().split()))) #Taking input at once means user can type \n",
    "    #all the n numbers at once with space\n",
    "L=L[:n]   # list value should be n ( if length id greater than n then we are slicing to n elements)\n",
    "arr=np.array(L)\n",
    "np.reshape(arr,(2,-1))"
   ]
  },
  {
   "cell_type": "code",
   "execution_count": 9,
   "id": "afea2b6c",
   "metadata": {},
   "outputs": [
    {
     "name": "stdout",
     "output_type": "stream",
     "text": [
      "Enter Length of array 6\n",
      "Enter Elements of array : 9 6 8 3 5 1\n",
      "Indices in ascending order [5 3 4 1 2 0]\n",
      "Array is not changed [9 6 8 3 5 1]\n"
     ]
    }
   ],
   "source": [
    "#QUESTION : Display the array element indices such that array elements are sorted in ascending\n",
    "#order [ without the changing the position of elements]\n",
    "n=int(input(\"Enter Length of array \"))\n",
    "L=[]\n",
    "while(len(L)<n):\n",
    "    L.extend(list(map(int,input(\"Enter Elements of array : \").strip().split()))) #Taking input at once means user can type \n",
    "    #all the n numbers at once with space\n",
    "L=L[:n]   # list value should be n ( if length id greater than n then we are slicing to n elements)\n",
    "arr=np.array(L)\n",
    "ans=np.argsort(arr) # sorts indexes by values\n",
    "print(\"Indices in ascending order {}\".format(ans))\n",
    "print(\"Array is not changed {}\".format(arr))"
   ]
  },
  {
   "cell_type": "code",
   "execution_count": 10,
   "id": "8e1281c9",
   "metadata": {},
   "outputs": [
    {
     "name": "stdout",
     "output_type": "stream",
     "text": [
      "Enter Length of array 5\n",
      "Enter Elements of binary array (0 or 1): 0 1 0 0 1\n",
      "Boolean array [False  True False False  True]\n"
     ]
    }
   ],
   "source": [
    "# QUESTION : Convert a binary NumPy array (holding only 0s and 1s) to a Boolean NumPy array.\n",
    "n=int(input(\"Enter Length of array \"))\n",
    "L=[]\n",
    "while(len(L)<n):\n",
    "    L.extend(list(map(int,input(\"Enter Elements of binary array (0 or 1): \").strip().split()))) #Taking input at once \n",
    "    #means user can type all the n numbers at once with space\n",
    "L=L[:n]   # list value should be n ( if length id greater than n then we are slicing to n elements)\n",
    "arr=np.array(L)\n",
    "bool_arr=arr.astype(\"bool\")\n",
    "print(\"Boolean array {}\".format(bool_arr))"
   ]
  },
  {
   "cell_type": "code",
   "execution_count": 11,
   "id": "5b165ef9",
   "metadata": {},
   "outputs": [
    {
     "name": "stdout",
     "output_type": "stream",
     "text": [
      "Enter Elements of array : 3 6 9 8 5 7 4 1 2 0\n",
      "First part : [3 6]\n",
      "Second part : [9 8]\n",
      "Third part : [5 7 4 1 2 0]\n"
     ]
    }
   ],
   "source": [
    "# QUESTION : Take an input of 10 elements and split the array into 3 arrays, where 1st two arrays\n",
    "#should have 2 elements each and the rest of the elements in the last array. Display the arrays.\n",
    "n=10\n",
    "L=[]\n",
    "while(len(L)<n):\n",
    "    L.extend(list(map(int,input(\"Enter Elements of array : \").strip().split()))) #Taking input at once means user can type \n",
    "    #all the n numbers at once with space\n",
    "L=L[:n]   # list value should be n ( if length id greater than n then we are slicing to n elements)\n",
    "arr=np.array(L)\n",
    "L=np.split(arr,[2,4])\n",
    "arr1=L[0]\n",
    "arr2=L[1]\n",
    "arr3=L[2]\n",
    "print(\"First part : {}\".format(arr1))\n",
    "print(\"Second part : {}\".format(arr2))\n",
    "print(\"Third part : {}\".format(arr3))"
   ]
  },
  {
   "cell_type": "markdown",
   "id": "3a5e2893",
   "metadata": {},
   "source": [
    "# 6th QUESTION"
   ]
  },
  {
   "cell_type": "code",
   "execution_count": 12,
   "id": "e846fded",
   "metadata": {},
   "outputs": [],
   "source": [
    "import pandas as pd\n",
    "import numpy as np\n",
    "import matplotlib.pyplot as plt"
   ]
  },
  {
   "cell_type": "code",
   "execution_count": 13,
   "id": "fde729f7",
   "metadata": {},
   "outputs": [
    {
     "data": {
      "text/plain": [
       "[29, 173, 146, 155, 83, 153, 158]"
      ]
     },
     "execution_count": 13,
     "metadata": {},
     "output_type": "execute_result"
    }
   ],
   "source": [
    "attendance=[np.random.randint(0,190) for i in range(7)]  # generating attendance count randomly for 7 days \n",
    "attendance"
   ]
  },
  {
   "cell_type": "code",
   "execution_count": 14,
   "id": "218f3217",
   "metadata": {},
   "outputs": [
    {
     "data": {
      "text/html": [
       "<div>\n",
       "<style scoped>\n",
       "    .dataframe tbody tr th:only-of-type {\n",
       "        vertical-align: middle;\n",
       "    }\n",
       "\n",
       "    .dataframe tbody tr th {\n",
       "        vertical-align: top;\n",
       "    }\n",
       "\n",
       "    .dataframe thead th {\n",
       "        text-align: right;\n",
       "    }\n",
       "</style>\n",
       "<table border=\"1\" class=\"dataframe\">\n",
       "  <thead>\n",
       "    <tr style=\"text-align: right;\">\n",
       "      <th></th>\n",
       "      <th>days</th>\n",
       "      <th>Strength</th>\n",
       "    </tr>\n",
       "  </thead>\n",
       "  <tbody>\n",
       "    <tr>\n",
       "      <th>0</th>\n",
       "      <td>Monday</td>\n",
       "      <td>29</td>\n",
       "    </tr>\n",
       "    <tr>\n",
       "      <th>1</th>\n",
       "      <td>Tuesday</td>\n",
       "      <td>173</td>\n",
       "    </tr>\n",
       "    <tr>\n",
       "      <th>2</th>\n",
       "      <td>Wednesday</td>\n",
       "      <td>146</td>\n",
       "    </tr>\n",
       "    <tr>\n",
       "      <th>3</th>\n",
       "      <td>Thursday</td>\n",
       "      <td>155</td>\n",
       "    </tr>\n",
       "    <tr>\n",
       "      <th>4</th>\n",
       "      <td>Friday</td>\n",
       "      <td>83</td>\n",
       "    </tr>\n",
       "    <tr>\n",
       "      <th>5</th>\n",
       "      <td>Saturday</td>\n",
       "      <td>153</td>\n",
       "    </tr>\n",
       "    <tr>\n",
       "      <th>6</th>\n",
       "      <td>Sunday</td>\n",
       "      <td>158</td>\n",
       "    </tr>\n",
       "  </tbody>\n",
       "</table>\n",
       "</div>"
      ],
      "text/plain": [
       "        days  Strength\n",
       "0     Monday        29\n",
       "1    Tuesday       173\n",
       "2  Wednesday       146\n",
       "3   Thursday       155\n",
       "4     Friday        83\n",
       "5   Saturday       153\n",
       "6     Sunday       158"
      ]
     },
     "execution_count": 14,
     "metadata": {},
     "output_type": "execute_result"
    }
   ],
   "source": [
    "days=[\"Monday\",\"Tuesday\",\"Wednesday\",\"Thursday\",\"Friday\",\"Saturday\",\"Sunday\"]\n",
    "data=pd.DataFrame([[days[i],attendance[i]] for i in range(7)],columns=[\"days\",\"Strength\"])   # creating data\n",
    "data # displaying data"
   ]
  },
  {
   "cell_type": "code",
   "execution_count": 15,
   "id": "6503d857",
   "metadata": {},
   "outputs": [
    {
     "data": {
      "text/plain": [
       "days        Tuesday\n",
       "Strength        173\n",
       "Name: 1, dtype: object"
      ]
     },
     "execution_count": 15,
     "metadata": {},
     "output_type": "execute_result"
    }
   ],
   "source": [
    "sorted_data=data.sort_values(by=[\"Strength\"])   # sorting data by strength\n",
    "sorted_data.iloc[-1,:]                          # displaying last row in sorted data"
   ]
  },
  {
   "cell_type": "code",
   "execution_count": 16,
   "id": "cd80dafd",
   "metadata": {},
   "outputs": [
    {
     "data": {
      "text/html": [
       "<div>\n",
       "<style scoped>\n",
       "    .dataframe tbody tr th:only-of-type {\n",
       "        vertical-align: middle;\n",
       "    }\n",
       "\n",
       "    .dataframe tbody tr th {\n",
       "        vertical-align: top;\n",
       "    }\n",
       "\n",
       "    .dataframe thead th {\n",
       "        text-align: right;\n",
       "    }\n",
       "</style>\n",
       "<table border=\"1\" class=\"dataframe\">\n",
       "  <thead>\n",
       "    <tr style=\"text-align: right;\">\n",
       "      <th></th>\n",
       "      <th>days</th>\n",
       "      <th>Strength</th>\n",
       "    </tr>\n",
       "  </thead>\n",
       "  <tbody>\n",
       "    <tr>\n",
       "      <th>0</th>\n",
       "      <td>Monday</td>\n",
       "      <td>29</td>\n",
       "    </tr>\n",
       "    <tr>\n",
       "      <th>1</th>\n",
       "      <td>Tuesday</td>\n",
       "      <td>173</td>\n",
       "    </tr>\n",
       "  </tbody>\n",
       "</table>\n",
       "</div>"
      ],
      "text/plain": [
       "      days  Strength\n",
       "0   Monday        29\n",
       "1  Tuesday       173"
      ]
     },
     "execution_count": 16,
     "metadata": {},
     "output_type": "execute_result"
    }
   ],
   "source": [
    "data.head(2)  # displaying 1st 2days strength"
   ]
  },
  {
   "cell_type": "code",
   "execution_count": 17,
   "id": "5e24361c",
   "metadata": {},
   "outputs": [
    {
     "data": {
      "text/plain": [
       "<BarContainer object of 7 artists>"
      ]
     },
     "execution_count": 17,
     "metadata": {},
     "output_type": "execute_result"
    },
    {
     "data": {
      "image/png": "[encoded data removed]",
      "text/plain": [
       "<Figure size 720x360 with 1 Axes>"
      ]
     },
     "metadata": {
      "needs_background": "light"
     },
     "output_type": "display_data"
    }
   ],
   "source": [
    "fig=plt.figure(figsize=(10,5)) # intialzing the figure size\n",
    "plt.bar(data[\"days\"],data[\"Strength\"]) # barplot where x-axis is days and y-axis is strength"
   ]
  },
  {
   "cell_type": "markdown",
   "id": "ffe445c6",
   "metadata": {},
   "source": [
    "# 7th QUESTION"
   ]
  },
  {
   "cell_type": "code",
   "execution_count": 18,
   "id": "c28a0bc4",
   "metadata": {},
   "outputs": [],
   "source": [
    "# since downloaded file is zip file unzipping it \n",
    "import zipfile\n",
    "with zipfile.ZipFile(\"SalaryDataZip.zip\",\"r\") as zip_ref:\n",
    "    zip_ref.extractall()"
   ]
  },
  {
   "cell_type": "code",
   "execution_count": 19,
   "id": "9812ad1a",
   "metadata": {},
   "outputs": [],
   "source": [
    "import pandas as pd"
   ]
  },
  {
   "cell_type": "code",
   "execution_count": 20,
   "id": "754a5bb3",
   "metadata": {
    "scrolled": true
   },
   "outputs": [
    {
     "data": {
      "text/html": [
       "<div>\n",
       "<style scoped>\n",
       "    .dataframe tbody tr th:only-of-type {\n",
       "        vertical-align: middle;\n",
       "    }\n",
       "\n",
       "    .dataframe tbody tr th {\n",
       "        vertical-align: top;\n",
       "    }\n",
       "\n",
       "    .dataframe thead th {\n",
       "        text-align: right;\n",
       "    }\n",
       "</style>\n",
       "<table border=\"1\" class=\"dataframe\">\n",
       "  <thead>\n",
       "    <tr style=\"text-align: right;\">\n",
       "      <th></th>\n",
       "      <th>YearsExperience</th>\n",
       "      <th>Salary</th>\n",
       "    </tr>\n",
       "  </thead>\n",
       "  <tbody>\n",
       "    <tr>\n",
       "      <th>0</th>\n",
       "      <td>1.1</td>\n",
       "      <td>39343.0</td>\n",
       "    </tr>\n",
       "    <tr>\n",
       "      <th>1</th>\n",
       "      <td>1.3</td>\n",
       "      <td>46205.0</td>\n",
       "    </tr>\n",
       "    <tr>\n",
       "      <th>2</th>\n",
       "      <td>1.5</td>\n",
       "      <td>37731.0</td>\n",
       "    </tr>\n",
       "    <tr>\n",
       "      <th>3</th>\n",
       "      <td>2.0</td>\n",
       "      <td>43525.0</td>\n",
       "    </tr>\n",
       "    <tr>\n",
       "      <th>4</th>\n",
       "      <td>2.2</td>\n",
       "      <td>39891.0</td>\n",
       "    </tr>\n",
       "    <tr>\n",
       "      <th>5</th>\n",
       "      <td>2.9</td>\n",
       "      <td>56642.0</td>\n",
       "    </tr>\n",
       "    <tr>\n",
       "      <th>6</th>\n",
       "      <td>3.0</td>\n",
       "      <td>60150.0</td>\n",
       "    </tr>\n",
       "    <tr>\n",
       "      <th>7</th>\n",
       "      <td>3.2</td>\n",
       "      <td>54445.0</td>\n",
       "    </tr>\n",
       "    <tr>\n",
       "      <th>8</th>\n",
       "      <td>3.2</td>\n",
       "      <td>64445.0</td>\n",
       "    </tr>\n",
       "    <tr>\n",
       "      <th>9</th>\n",
       "      <td>3.7</td>\n",
       "      <td>57189.0</td>\n",
       "    </tr>\n",
       "    <tr>\n",
       "      <th>10</th>\n",
       "      <td>3.9</td>\n",
       "      <td>63218.0</td>\n",
       "    </tr>\n",
       "    <tr>\n",
       "      <th>11</th>\n",
       "      <td>4.0</td>\n",
       "      <td>55794.0</td>\n",
       "    </tr>\n",
       "    <tr>\n",
       "      <th>12</th>\n",
       "      <td>4.0</td>\n",
       "      <td>56957.0</td>\n",
       "    </tr>\n",
       "    <tr>\n",
       "      <th>13</th>\n",
       "      <td>4.1</td>\n",
       "      <td>57081.0</td>\n",
       "    </tr>\n",
       "    <tr>\n",
       "      <th>14</th>\n",
       "      <td>4.5</td>\n",
       "      <td>61111.0</td>\n",
       "    </tr>\n",
       "    <tr>\n",
       "      <th>15</th>\n",
       "      <td>4.9</td>\n",
       "      <td>67938.0</td>\n",
       "    </tr>\n",
       "    <tr>\n",
       "      <th>16</th>\n",
       "      <td>5.1</td>\n",
       "      <td>66029.0</td>\n",
       "    </tr>\n",
       "    <tr>\n",
       "      <th>17</th>\n",
       "      <td>5.3</td>\n",
       "      <td>83088.0</td>\n",
       "    </tr>\n",
       "    <tr>\n",
       "      <th>18</th>\n",
       "      <td>5.9</td>\n",
       "      <td>81363.0</td>\n",
       "    </tr>\n",
       "    <tr>\n",
       "      <th>19</th>\n",
       "      <td>6.0</td>\n",
       "      <td>93940.0</td>\n",
       "    </tr>\n",
       "    <tr>\n",
       "      <th>20</th>\n",
       "      <td>6.8</td>\n",
       "      <td>91738.0</td>\n",
       "    </tr>\n",
       "    <tr>\n",
       "      <th>21</th>\n",
       "      <td>7.1</td>\n",
       "      <td>98273.0</td>\n",
       "    </tr>\n",
       "    <tr>\n",
       "      <th>22</th>\n",
       "      <td>7.9</td>\n",
       "      <td>101302.0</td>\n",
       "    </tr>\n",
       "    <tr>\n",
       "      <th>23</th>\n",
       "      <td>8.2</td>\n",
       "      <td>113812.0</td>\n",
       "    </tr>\n",
       "    <tr>\n",
       "      <th>24</th>\n",
       "      <td>8.7</td>\n",
       "      <td>109431.0</td>\n",
       "    </tr>\n",
       "    <tr>\n",
       "      <th>25</th>\n",
       "      <td>9.0</td>\n",
       "      <td>105582.0</td>\n",
       "    </tr>\n",
       "    <tr>\n",
       "      <th>26</th>\n",
       "      <td>9.5</td>\n",
       "      <td>116969.0</td>\n",
       "    </tr>\n",
       "    <tr>\n",
       "      <th>27</th>\n",
       "      <td>9.6</td>\n",
       "      <td>112635.0</td>\n",
       "    </tr>\n",
       "    <tr>\n",
       "      <th>28</th>\n",
       "      <td>10.3</td>\n",
       "      <td>122391.0</td>\n",
       "    </tr>\n",
       "    <tr>\n",
       "      <th>29</th>\n",
       "      <td>10.5</td>\n",
       "      <td>121872.0</td>\n",
       "    </tr>\n",
       "  </tbody>\n",
       "</table>\n",
       "</div>"
      ],
      "text/plain": [
       "    YearsExperience    Salary\n",
       "0               1.1   39343.0\n",
       "1               1.3   46205.0\n",
       "2               1.5   37731.0\n",
       "3               2.0   43525.0\n",
       "4               2.2   39891.0\n",
       "5               2.9   56642.0\n",
       "6               3.0   60150.0\n",
       "7               3.2   54445.0\n",
       "8               3.2   64445.0\n",
       "9               3.7   57189.0\n",
       "10              3.9   63218.0\n",
       "11              4.0   55794.0\n",
       "12              4.0   56957.0\n",
       "13              4.1   57081.0\n",
       "14              4.5   61111.0\n",
       "15              4.9   67938.0\n",
       "16              5.1   66029.0\n",
       "17              5.3   83088.0\n",
       "18              5.9   81363.0\n",
       "19              6.0   93940.0\n",
       "20              6.8   91738.0\n",
       "21              7.1   98273.0\n",
       "22              7.9  101302.0\n",
       "23              8.2  113812.0\n",
       "24              8.7  109431.0\n",
       "25              9.0  105582.0\n",
       "26              9.5  116969.0\n",
       "27              9.6  112635.0\n",
       "28             10.3  122391.0\n",
       "29             10.5  121872.0"
      ]
     },
     "execution_count": 20,
     "metadata": {},
     "output_type": "execute_result"
    }
   ],
   "source": [
    "data=pd.read_csv(\"Salary_Data.csv\")\n",
    "data # displaying data"
   ]
  },
  {
   "cell_type": "code",
   "execution_count": 21,
   "id": "3dc8dc09",
   "metadata": {},
   "outputs": [
    {
     "name": "stdout",
     "output_type": "stream",
     "text": [
      "Number of row 30\n",
      "Number of columns 2\n"
     ]
    }
   ],
   "source": [
    "r,c=data.shape # gives shape of data\n",
    "print(\"Number of row {}\".format(r))\n",
    "print(\"Number of columns {}\".format(c))"
   ]
  },
  {
   "cell_type": "code",
   "execution_count": 22,
   "id": "ed68bb12",
   "metadata": {},
   "outputs": [
    {
     "data": {
      "text/html": [
       "<div>\n",
       "<style scoped>\n",
       "    .dataframe tbody tr th:only-of-type {\n",
       "        vertical-align: middle;\n",
       "    }\n",
       "\n",
       "    .dataframe tbody tr th {\n",
       "        vertical-align: top;\n",
       "    }\n",
       "\n",
       "    .dataframe thead th {\n",
       "        text-align: right;\n",
       "    }\n",
       "</style>\n",
       "<table border=\"1\" class=\"dataframe\">\n",
       "  <thead>\n",
       "    <tr style=\"text-align: right;\">\n",
       "      <th></th>\n",
       "      <th>YearsExperience</th>\n",
       "      <th>Salary</th>\n",
       "    </tr>\n",
       "  </thead>\n",
       "  <tbody>\n",
       "    <tr>\n",
       "      <th>0</th>\n",
       "      <td>1.1</td>\n",
       "      <td>39343.0</td>\n",
       "    </tr>\n",
       "    <tr>\n",
       "      <th>1</th>\n",
       "      <td>1.3</td>\n",
       "      <td>46205.0</td>\n",
       "    </tr>\n",
       "    <tr>\n",
       "      <th>2</th>\n",
       "      <td>1.5</td>\n",
       "      <td>37731.0</td>\n",
       "    </tr>\n",
       "    <tr>\n",
       "      <th>3</th>\n",
       "      <td>2.0</td>\n",
       "      <td>43525.0</td>\n",
       "    </tr>\n",
       "    <tr>\n",
       "      <th>4</th>\n",
       "      <td>2.2</td>\n",
       "      <td>39891.0</td>\n",
       "    </tr>\n",
       "  </tbody>\n",
       "</table>\n",
       "</div>"
      ],
      "text/plain": [
       "   YearsExperience   Salary\n",
       "0              1.1  39343.0\n",
       "1              1.3  46205.0\n",
       "2              1.5  37731.0\n",
       "3              2.0  43525.0\n",
       "4              2.2  39891.0"
      ]
     },
     "execution_count": 22,
     "metadata": {},
     "output_type": "execute_result"
    }
   ],
   "source": [
    "data.head(5) # viewing top 5 rows"
   ]
  },
  {
   "cell_type": "code",
   "execution_count": 23,
   "id": "081afc04",
   "metadata": {},
   "outputs": [
    {
     "data": {
      "text/html": [
       "<div>\n",
       "<style scoped>\n",
       "    .dataframe tbody tr th:only-of-type {\n",
       "        vertical-align: middle;\n",
       "    }\n",
       "\n",
       "    .dataframe tbody tr th {\n",
       "        vertical-align: top;\n",
       "    }\n",
       "\n",
       "    .dataframe thead th {\n",
       "        text-align: right;\n",
       "    }\n",
       "</style>\n",
       "<table border=\"1\" class=\"dataframe\">\n",
       "  <thead>\n",
       "    <tr style=\"text-align: right;\">\n",
       "      <th></th>\n",
       "      <th>YearsExperience</th>\n",
       "      <th>Salary</th>\n",
       "    </tr>\n",
       "  </thead>\n",
       "  <tbody>\n",
       "    <tr>\n",
       "      <th>count</th>\n",
       "      <td>30.000000</td>\n",
       "      <td>30.000000</td>\n",
       "    </tr>\n",
       "    <tr>\n",
       "      <th>mean</th>\n",
       "      <td>5.313333</td>\n",
       "      <td>76003.000000</td>\n",
       "    </tr>\n",
       "    <tr>\n",
       "      <th>std</th>\n",
       "      <td>2.837888</td>\n",
       "      <td>27414.429785</td>\n",
       "    </tr>\n",
       "    <tr>\n",
       "      <th>min</th>\n",
       "      <td>1.100000</td>\n",
       "      <td>37731.000000</td>\n",
       "    </tr>\n",
       "    <tr>\n",
       "      <th>25%</th>\n",
       "      <td>3.200000</td>\n",
       "      <td>56720.750000</td>\n",
       "    </tr>\n",
       "    <tr>\n",
       "      <th>50%</th>\n",
       "      <td>4.700000</td>\n",
       "      <td>65237.000000</td>\n",
       "    </tr>\n",
       "    <tr>\n",
       "      <th>75%</th>\n",
       "      <td>7.700000</td>\n",
       "      <td>100544.750000</td>\n",
       "    </tr>\n",
       "    <tr>\n",
       "      <th>max</th>\n",
       "      <td>10.500000</td>\n",
       "      <td>122391.000000</td>\n",
       "    </tr>\n",
       "  </tbody>\n",
       "</table>\n",
       "</div>"
      ],
      "text/plain": [
       "       YearsExperience         Salary\n",
       "count        30.000000      30.000000\n",
       "mean          5.313333   76003.000000\n",
       "std           2.837888   27414.429785\n",
       "min           1.100000   37731.000000\n",
       "25%           3.200000   56720.750000\n",
       "50%           4.700000   65237.000000\n",
       "75%           7.700000  100544.750000\n",
       "max          10.500000  122391.000000"
      ]
     },
     "execution_count": 23,
     "metadata": {},
     "output_type": "execute_result"
    }
   ],
   "source": [
    "data.describe()  # describes all the relavant information statistics "
   ]
  },
  {
   "cell_type": "code",
   "execution_count": 24,
   "id": "7834bc4b",
   "metadata": {},
   "outputs": [],
   "source": [
    "n=np.random.randint(5,r,1) # generating random number >=5\n",
    "rand_idx=np.random.randint(1,r,n)  # generating n random numbers from 1 to r"
   ]
  },
  {
   "cell_type": "code",
   "execution_count": 25,
   "id": "a4c9db73",
   "metadata": {},
   "outputs": [
    {
     "data": {
      "text/html": [
       "<div>\n",
       "<style scoped>\n",
       "    .dataframe tbody tr th:only-of-type {\n",
       "        vertical-align: middle;\n",
       "    }\n",
       "\n",
       "    .dataframe tbody tr th {\n",
       "        vertical-align: top;\n",
       "    }\n",
       "\n",
       "    .dataframe thead th {\n",
       "        text-align: right;\n",
       "    }\n",
       "</style>\n",
       "<table border=\"1\" class=\"dataframe\">\n",
       "  <thead>\n",
       "    <tr style=\"text-align: right;\">\n",
       "      <th></th>\n",
       "      <th>YearsExperience</th>\n",
       "      <th>Salary</th>\n",
       "    </tr>\n",
       "  </thead>\n",
       "  <tbody>\n",
       "    <tr>\n",
       "      <th>12</th>\n",
       "      <td>4.0</td>\n",
       "      <td>56957.0</td>\n",
       "    </tr>\n",
       "    <tr>\n",
       "      <th>20</th>\n",
       "      <td>6.8</td>\n",
       "      <td>91738.0</td>\n",
       "    </tr>\n",
       "    <tr>\n",
       "      <th>18</th>\n",
       "      <td>5.9</td>\n",
       "      <td>81363.0</td>\n",
       "    </tr>\n",
       "    <tr>\n",
       "      <th>7</th>\n",
       "      <td>3.2</td>\n",
       "      <td>54445.0</td>\n",
       "    </tr>\n",
       "    <tr>\n",
       "      <th>27</th>\n",
       "      <td>9.6</td>\n",
       "      <td>112635.0</td>\n",
       "    </tr>\n",
       "    <tr>\n",
       "      <th>3</th>\n",
       "      <td>2.0</td>\n",
       "      <td>43525.0</td>\n",
       "    </tr>\n",
       "    <tr>\n",
       "      <th>13</th>\n",
       "      <td>4.1</td>\n",
       "      <td>57081.0</td>\n",
       "    </tr>\n",
       "    <tr>\n",
       "      <th>28</th>\n",
       "      <td>10.3</td>\n",
       "      <td>122391.0</td>\n",
       "    </tr>\n",
       "    <tr>\n",
       "      <th>8</th>\n",
       "      <td>3.2</td>\n",
       "      <td>64445.0</td>\n",
       "    </tr>\n",
       "    <tr>\n",
       "      <th>25</th>\n",
       "      <td>9.0</td>\n",
       "      <td>105582.0</td>\n",
       "    </tr>\n",
       "    <tr>\n",
       "      <th>7</th>\n",
       "      <td>3.2</td>\n",
       "      <td>54445.0</td>\n",
       "    </tr>\n",
       "    <tr>\n",
       "      <th>2</th>\n",
       "      <td>1.5</td>\n",
       "      <td>37731.0</td>\n",
       "    </tr>\n",
       "    <tr>\n",
       "      <th>8</th>\n",
       "      <td>3.2</td>\n",
       "      <td>64445.0</td>\n",
       "    </tr>\n",
       "    <tr>\n",
       "      <th>16</th>\n",
       "      <td>5.1</td>\n",
       "      <td>66029.0</td>\n",
       "    </tr>\n",
       "    <tr>\n",
       "      <th>21</th>\n",
       "      <td>7.1</td>\n",
       "      <td>98273.0</td>\n",
       "    </tr>\n",
       "    <tr>\n",
       "      <th>24</th>\n",
       "      <td>8.7</td>\n",
       "      <td>109431.0</td>\n",
       "    </tr>\n",
       "    <tr>\n",
       "      <th>15</th>\n",
       "      <td>4.9</td>\n",
       "      <td>67938.0</td>\n",
       "    </tr>\n",
       "    <tr>\n",
       "      <th>27</th>\n",
       "      <td>9.6</td>\n",
       "      <td>112635.0</td>\n",
       "    </tr>\n",
       "    <tr>\n",
       "      <th>26</th>\n",
       "      <td>9.5</td>\n",
       "      <td>116969.0</td>\n",
       "    </tr>\n",
       "    <tr>\n",
       "      <th>12</th>\n",
       "      <td>4.0</td>\n",
       "      <td>56957.0</td>\n",
       "    </tr>\n",
       "    <tr>\n",
       "      <th>6</th>\n",
       "      <td>3.0</td>\n",
       "      <td>60150.0</td>\n",
       "    </tr>\n",
       "    <tr>\n",
       "      <th>5</th>\n",
       "      <td>2.9</td>\n",
       "      <td>56642.0</td>\n",
       "    </tr>\n",
       "    <tr>\n",
       "      <th>27</th>\n",
       "      <td>9.6</td>\n",
       "      <td>112635.0</td>\n",
       "    </tr>\n",
       "    <tr>\n",
       "      <th>15</th>\n",
       "      <td>4.9</td>\n",
       "      <td>67938.0</td>\n",
       "    </tr>\n",
       "    <tr>\n",
       "      <th>7</th>\n",
       "      <td>3.2</td>\n",
       "      <td>54445.0</td>\n",
       "    </tr>\n",
       "    <tr>\n",
       "      <th>8</th>\n",
       "      <td>3.2</td>\n",
       "      <td>64445.0</td>\n",
       "    </tr>\n",
       "  </tbody>\n",
       "</table>\n",
       "</div>"
      ],
      "text/plain": [
       "    YearsExperience    Salary\n",
       "12              4.0   56957.0\n",
       "20              6.8   91738.0\n",
       "18              5.9   81363.0\n",
       "7               3.2   54445.0\n",
       "27              9.6  112635.0\n",
       "3               2.0   43525.0\n",
       "13              4.1   57081.0\n",
       "28             10.3  122391.0\n",
       "8               3.2   64445.0\n",
       "25              9.0  105582.0\n",
       "7               3.2   54445.0\n",
       "2               1.5   37731.0\n",
       "8               3.2   64445.0\n",
       "16              5.1   66029.0\n",
       "21              7.1   98273.0\n",
       "24              8.7  109431.0\n",
       "15              4.9   67938.0\n",
       "27              9.6  112635.0\n",
       "26              9.5  116969.0\n",
       "12              4.0   56957.0\n",
       "6               3.0   60150.0\n",
       "5               2.9   56642.0\n",
       "27              9.6  112635.0\n",
       "15              4.9   67938.0\n",
       "7               3.2   54445.0\n",
       "8               3.2   64445.0"
      ]
     },
     "execution_count": 25,
     "metadata": {},
     "output_type": "execute_result"
    }
   ],
   "source": [
    "data.iloc[rand_idx]  # printing random rows "
   ]
  }
 ],
 "metadata": {
  "kernelspec": {
   "display_name": "Python 3 (ipykernel)",
   "language": "python",
   "name": "python3"
  },
  "language_info": {
   "codemirror_mode": {
    "name": "ipython",
    "version": 3
   },
   "file_extension": ".py",
   "mimetype": "text/x-python",
   "name": "python",
   "nbconvert_exporter": "python",
   "pygments_lexer": "ipython3",
   "version": "3.9.7"
  }
 },
 "nbformat": 4,
 "nbformat_minor": 5
}
