{
 "cells": [
  {
   "cell_type": "markdown",
   "metadata": {},
   "source": [
    "#  MULITCLASS LOGISTIC REGRESSION "
   ]
  },
  {
   "cell_type": "code",
   "execution_count": 11,
   "metadata": {
    "scrolled": true
   },
   "outputs": [],
   "source": [
    "import pandas as pd\n",
    "import numpy as np\n",
    "import seaborn as sns\n",
    "import random\n",
    "import matplotlib.pyplot as plt\n",
    "from sklearn.feature_extraction.text import CountVectorizer"
   ]
  },
  {
   "cell_type": "code",
   "execution_count": 12,
   "metadata": {},
   "outputs": [
    {
     "data": {
      "text/html": [
       "<div>\n",
       "<style scoped>\n",
       "    .dataframe tbody tr th:only-of-type {\n",
       "        vertical-align: middle;\n",
       "    }\n",
       "\n",
       "    .dataframe tbody tr th {\n",
       "        vertical-align: top;\n",
       "    }\n",
       "\n",
       "    .dataframe thead th {\n",
       "        text-align: right;\n",
       "    }\n",
       "</style>\n",
       "<table border=\"1\" class=\"dataframe\">\n",
       "  <thead>\n",
       "    <tr style=\"text-align: right;\">\n",
       "      <th></th>\n",
       "      <th>Id</th>\n",
       "      <th>SepalLengthCm</th>\n",
       "      <th>SepalWidthCm</th>\n",
       "      <th>PetalLengthCm</th>\n",
       "      <th>PetalWidthCm</th>\n",
       "      <th>Species</th>\n",
       "    </tr>\n",
       "  </thead>\n",
       "  <tbody>\n",
       "    <tr>\n",
       "      <th>0</th>\n",
       "      <td>1</td>\n",
       "      <td>5.1</td>\n",
       "      <td>3.5</td>\n",
       "      <td>1.4</td>\n",
       "      <td>0.2</td>\n",
       "      <td>Iris-setosa</td>\n",
       "    </tr>\n",
       "    <tr>\n",
       "      <th>1</th>\n",
       "      <td>2</td>\n",
       "      <td>4.9</td>\n",
       "      <td>3.0</td>\n",
       "      <td>1.4</td>\n",
       "      <td>0.2</td>\n",
       "      <td>Iris-setosa</td>\n",
       "    </tr>\n",
       "    <tr>\n",
       "      <th>2</th>\n",
       "      <td>3</td>\n",
       "      <td>4.7</td>\n",
       "      <td>3.2</td>\n",
       "      <td>1.3</td>\n",
       "      <td>0.2</td>\n",
       "      <td>Iris-setosa</td>\n",
       "    </tr>\n",
       "    <tr>\n",
       "      <th>3</th>\n",
       "      <td>4</td>\n",
       "      <td>4.6</td>\n",
       "      <td>3.1</td>\n",
       "      <td>1.5</td>\n",
       "      <td>0.2</td>\n",
       "      <td>Iris-setosa</td>\n",
       "    </tr>\n",
       "    <tr>\n",
       "      <th>4</th>\n",
       "      <td>5</td>\n",
       "      <td>5.0</td>\n",
       "      <td>3.6</td>\n",
       "      <td>1.4</td>\n",
       "      <td>0.2</td>\n",
       "      <td>Iris-setosa</td>\n",
       "    </tr>\n",
       "  </tbody>\n",
       "</table>\n",
       "</div>"
      ],
      "text/plain": [
       "   Id  SepalLengthCm  SepalWidthCm  PetalLengthCm  PetalWidthCm      Species\n",
       "0   1            5.1           3.5            1.4           0.2  Iris-setosa\n",
       "1   2            4.9           3.0            1.4           0.2  Iris-setosa\n",
       "2   3            4.7           3.2            1.3           0.2  Iris-setosa\n",
       "3   4            4.6           3.1            1.5           0.2  Iris-setosa\n",
       "4   5            5.0           3.6            1.4           0.2  Iris-setosa"
      ]
     },
     "execution_count": 12,
     "metadata": {},
     "output_type": "execute_result"
    }
   ],
   "source": [
    "data=pd.read_csv(\"iris.csv\")\n",
    "data.head()"
   ]
  },
  {
   "cell_type": "code",
   "execution_count": 13,
   "metadata": {},
   "outputs": [],
   "source": [
    "data=data.drop(['Id'],axis=1) # removing ID column"
   ]
  },
  {
   "cell_type": "code",
   "execution_count": 14,
   "metadata": {},
   "outputs": [
    {
     "data": {
      "text/plain": [
       "<AxesSubplot:>"
      ]
     },
     "execution_count": 14,
     "metadata": {},
     "output_type": "execute_result"
    },
    {
     "data": {
      "image/png": "[encoded data removed]",
      "text/plain": [
       "<Figure size 360x360 with 2 Axes>"
      ]
     },
     "metadata": {},
     "output_type": "display_data"
    }
   ],
   "source": [
    "sns.set(rc={'figure.figsize':(5,5)})\n",
    "sns.heatmap(data.corr(),annot=True) # printing correlation graph"
   ]
  },
  {
   "cell_type": "code",
   "execution_count": 39,
   "metadata": {},
   "outputs": [],
   "source": [
    "def SplitDataSet(X,y,p=0.8):  # function to split data set\n",
    "    n,_=X.shape\n",
    "    train_idxs=random.sample(range(0,n-1),int(np.ceil(p*n)))  # generating random numbers \n",
    "    train_idxs=np.sort(train_idxs)\n",
    "    X_train=X[train_idxs]\n",
    "    y_train=y[train_idxs]\n",
    "    test_idxs=[i for i in range(n) if i not in train_idxs]\n",
    "    X_test=X[test_idxs]\n",
    "    y_test=y[test_idxs]\n",
    "    return X_train,y_train,X_test,y_test\n",
    "def ConvertTextLabeltoNumeric(y): # function to convert text label to numeric label \n",
    "    unq_arr=np.unique(y)\n",
    "    D={};\n",
    "    j=0\n",
    "    for i in unq_arr:\n",
    "        D[i]=j\n",
    "        j+=1\n",
    "    for i in range(len(y)):\n",
    "        y[i]=D[y[i]]\n",
    "    return y\n",
    "def OneHotEncoded(y): # one hot encoding . ex: 3 -> [0,0,0,1]\n",
    "    m=np.max(y)\n",
    "    ans=np.zeros((len(y),m+1))\n",
    "    for i in range(len(y)):\n",
    "        ans[i][y[i]]=1\n",
    "    return ans"
   ]
  },
  {
   "cell_type": "code",
   "execution_count": 132,
   "metadata": {},
   "outputs": [],
   "source": [
    "class MulitClassLogReg:\n",
    "    def __init__(self):\n",
    "        self.cost_arr=[]\n",
    "        pass\n",
    "    \n",
    "    def getH(self,X):\n",
    "        # theta shape : (m+1)*c ; c-> number of diff labels\n",
    "        # X shape : n*(m+1) ;\n",
    "        z=np.exp(X@self.theta)\n",
    "        s=np.sum(z,axis=1)\n",
    "        s=s.reshape(len(s),-1)\n",
    "        h=z/s\n",
    "        return h\n",
    "    \n",
    "    def getLoss(self,X,y):\n",
    "        n=y.shape[0]\n",
    "        cost=(-1/n)*np.sum(np.log(np.sum(y*self.getH(X),axis=1)))\n",
    "        return cost\n",
    "    \n",
    "    def plotCost(self):\n",
    "        fig=plt.figure(figsize=(5,5))\n",
    "        epochs_arr=np.arange(len(self.cost_arr))\n",
    "        plt.plot(epochs_arr,self.cost_arr)\n",
    "        plt.xlabel(\"Number of Epochs\")\n",
    "        plt.ylabel(\"CROSS ENTRPOY LOSS\")\n",
    "        plt.title(\"CROSS ENTRPOY LOSS vs Number of Iterations\")   \n",
    "        \n",
    "    def fit(self,X,y,num_epochs=150,alpha=0.1,lamda=0.01):\n",
    "        self.theta=np.zeros((X.shape[1],y.shape[1]))\n",
    "        n=y.shape[0]\n",
    "        for i in range(num_epochs):\n",
    "            h=self.getH(X)\n",
    "            self.theta=self.theta+alpha*(1/n)*(X.T @ (y-h))+2*lamda*self.theta\n",
    "            self.cost_arr.append(self.getLoss(X,y))\n",
    "        \"\"\"\n",
    "        # expanded version\n",
    "        for e in range(num_epochs):\n",
    "            h=self.getH(X)\n",
    "            for a in range(X.shape[1]):\n",
    "                for b in range(y.shape[1]):\n",
    "                    temp=0\n",
    "                    # ath feature and bth class\n",
    "                    for i in range(n):\n",
    "                        temp+=((y[i][b]*h[i][b]*(1-h[i][b])*X[i][a])/(np.sum(y[i]*h[i])))\n",
    "                    self.theta[a][b]+=((alpha/n)*temp+2*alpha*lamda*self.theta[a][b])\n",
    "            self.cost_arr.append(self.getLoss(X,y))  \n",
    "         \"\"\"   \n",
    "    def predict(self,X):\n",
    "        return np.argmax(self.getH(X),axis=1)"
   ]
  },
  {
   "cell_type": "code",
   "execution_count": 133,
   "metadata": {},
   "outputs": [
    {
     "name": "stdout",
     "output_type": "stream",
     "text": [
      "Cost for train Data = 0.12433534944103204\n"
     ]
    },
    {
     "data": {
      "image/png": "[encoded data removed]",
      "text/plain": [
       "<Figure size 360x360 with 1 Axes>"
      ]
     },
     "metadata": {},
     "output_type": "display_data"
    }
   ],
   "source": [
    "# ------------ preprocessing data ---------------------\n",
    "X=data.iloc[:,:-2].to_numpy()\n",
    "ones=np.ones((X.shape[0],1))\n",
    "X=np.concatenate((ones,X),axis=1)\n",
    "y=data.iloc[:,-1].to_numpy()\n",
    "y=ConvertTextLabeltoNumeric(y)\n",
    "y=OneHotEncoded(y)\n",
    "X_train,y_train,X_test,y_test=SplitDataSet(X,y)\n",
    "\n",
    "#------------ training and testing model ----------------\n",
    "reg=MulitClassLogReg()\n",
    "reg.fit(X_train,y_train) # fitting data to model\n",
    "reg.plotCost()\n",
    "cost=reg.getLoss(X,y)\n",
    "print(\"Cost for train Data = {}\".format(cost))"
   ]
  },
  {
   "cell_type": "code",
   "execution_count": 134,
   "metadata": {},
   "outputs": [
    {
     "name": "stdout",
     "output_type": "stream",
     "text": [
      "predicted :  [0 0 0 0 0 0 0 0 1 1 1 1 1 1 1 1 1 1 1 1 2 2 2 2 2 2 2 2 2 2]\n",
      "Actual    :  [0 0 0 0 0 0 0 0 1 1 1 1 1 1 1 1 1 1 1 1 2 2 2 2 2 2 2 2 2 2]\n",
      "RMS error is :  0.0\n",
      "Cost for test Data = 0.050662294470622586\n"
     ]
    }
   ],
   "source": [
    "y_pred=reg.predict(X_test)\n",
    "cost=reg.getLoss(X_test,y_test)\n",
    "print(\"predicted : \",y_pred)\n",
    "print(\"Actual    : \",np.argmax(y_test,axis=1))\n",
    "print(\"RMS error is : \",np.mean(((y_pred)-np.argmax(y_test,axis=1))**2))\n",
    "print(\"Cost for test Data = {}\".format(cost))"
   ]
  },
  {
   "cell_type": "markdown",
   "metadata": {},
   "source": [
    "# SUPPORT VECTOR MACHINES (SVM)"
   ]
  },
  {
   "cell_type": "code",
   "execution_count": 1,
   "metadata": {},
   "outputs": [],
   "source": [
    "import pandas as pd\n",
    "import numpy as np\n",
    "import seaborn as sns\n",
    "import random\n",
    "import matplotlib.pyplot as plt\n",
    "from sklearn.feature_extraction.text import CountVectorizer"
   ]
  },
  {
   "cell_type": "code",
   "execution_count": 98,
   "metadata": {},
   "outputs": [
    {
     "data": {
      "text/html": [
       "<div>\n",
       "<style scoped>\n",
       "    .dataframe tbody tr th:only-of-type {\n",
       "        vertical-align: middle;\n",
       "    }\n",
       "\n",
       "    .dataframe tbody tr th {\n",
       "        vertical-align: top;\n",
       "    }\n",
       "\n",
       "    .dataframe thead th {\n",
       "        text-align: right;\n",
       "    }\n",
       "</style>\n",
       "<table border=\"1\" class=\"dataframe\">\n",
       "  <thead>\n",
       "    <tr style=\"text-align: right;\">\n",
       "      <th></th>\n",
       "      <th>SepalLengthCm</th>\n",
       "      <th>SepalWidthCm</th>\n",
       "      <th>PetalLengthCm</th>\n",
       "      <th>PetalWidthCm</th>\n",
       "      <th>Species</th>\n",
       "    </tr>\n",
       "  </thead>\n",
       "  <tbody>\n",
       "    <tr>\n",
       "      <th>0</th>\n",
       "      <td>5.1</td>\n",
       "      <td>3.5</td>\n",
       "      <td>1.4</td>\n",
       "      <td>0.2</td>\n",
       "      <td>Iris-setosa</td>\n",
       "    </tr>\n",
       "    <tr>\n",
       "      <th>1</th>\n",
       "      <td>4.9</td>\n",
       "      <td>3.0</td>\n",
       "      <td>1.4</td>\n",
       "      <td>0.2</td>\n",
       "      <td>Iris-setosa</td>\n",
       "    </tr>\n",
       "    <tr>\n",
       "      <th>2</th>\n",
       "      <td>4.7</td>\n",
       "      <td>3.2</td>\n",
       "      <td>1.3</td>\n",
       "      <td>0.2</td>\n",
       "      <td>Iris-setosa</td>\n",
       "    </tr>\n",
       "    <tr>\n",
       "      <th>3</th>\n",
       "      <td>4.6</td>\n",
       "      <td>3.1</td>\n",
       "      <td>1.5</td>\n",
       "      <td>0.2</td>\n",
       "      <td>Iris-setosa</td>\n",
       "    </tr>\n",
       "    <tr>\n",
       "      <th>4</th>\n",
       "      <td>5.0</td>\n",
       "      <td>3.6</td>\n",
       "      <td>1.4</td>\n",
       "      <td>0.2</td>\n",
       "      <td>Iris-setosa</td>\n",
       "    </tr>\n",
       "  </tbody>\n",
       "</table>\n",
       "</div>"
      ],
      "text/plain": [
       "   SepalLengthCm  SepalWidthCm  PetalLengthCm  PetalWidthCm      Species\n",
       "0            5.1           3.5            1.4           0.2  Iris-setosa\n",
       "1            4.9           3.0            1.4           0.2  Iris-setosa\n",
       "2            4.7           3.2            1.3           0.2  Iris-setosa\n",
       "3            4.6           3.1            1.5           0.2  Iris-setosa\n",
       "4            5.0           3.6            1.4           0.2  Iris-setosa"
      ]
     },
     "execution_count": 98,
     "metadata": {},
     "output_type": "execute_result"
    }
   ],
   "source": [
    "data=pd.read_csv(\"iris.csv\")\n",
    "data=data.drop(['Id'],axis=1) # removing ID column\n",
    "data.head()"
   ]
  },
  {
   "cell_type": "code",
   "execution_count": 99,
   "metadata": {},
   "outputs": [],
   "source": [
    "data=data[data[\"Species\"]!='Iris-virginica']  # removing Iris-virginica class"
   ]
  },
  {
   "cell_type": "code",
   "execution_count": 100,
   "metadata": {},
   "outputs": [],
   "source": [
    "def SplitDataSet(X,y,p=0.8):  # function to split data set\n",
    "    n,_=X.shape\n",
    "    train_idxs=random.sample(range(0,n-1),int(np.ceil(p*n)))  # generating random numbers \n",
    "    train_idxs=np.sort(train_idxs)\n",
    "    X_train=X[train_idxs]\n",
    "    y_train=y[train_idxs]\n",
    "    test_idxs=[i for i in range(n) if i not in train_idxs]\n",
    "    X_test=X[test_idxs]\n",
    "    y_test=y[test_idxs]\n",
    "    return X_train,y_train,X_test,y_test\n",
    "def ConvertTextLabeltoNumeric(y):  # function to convert text label to numeric label \n",
    "    unq_arr=np.unique(y)\n",
    "    D={};\n",
    "    j=-1\n",
    "    for i in unq_arr:\n",
    "        D[i]=j\n",
    "        j+=2\n",
    "    for i in range(len(y)):\n",
    "        y[i]=D[y[i]]\n",
    "    return D,y"
   ]
  },
  {
   "cell_type": "code",
   "execution_count": 110,
   "metadata": {},
   "outputs": [],
   "source": [
    "class SVM:\n",
    "\n",
    "    def __init__(self,kernel=\"linear\",degree=1):\n",
    "        self.kernel=kernel\n",
    "        self.degree=degree\n",
    "        pass\n",
    "    def Kernel(self,x1,x2,r=1):\n",
    "        if(self.kernel==\"linear\"): return np.dot(x1,x2)\n",
    "        return (np.dot(x1,x2)+r)**self.degree\n",
    "    def gradient(self,X,y,C=1000):\n",
    "        dw=np.zeros(X.shape[1])\n",
    "        for i in range(len(y)):\n",
    "            if(y[i]*self.Kernel(self.W,X[i])>=1):\n",
    "                dw+=self.W\n",
    "            else :\n",
    "                dw+=(self.W-C*X[i]*y[i])\n",
    "        return dw\n",
    "    def PlotBias(self,y):\n",
    "        y_unq,counts=np.unique(y,return_counts=True)\n",
    "        x=[\"-ve\",\"+ve\"]\n",
    "        plt.title(\"Number of Samples\")\n",
    "        plt.bar(x,counts,color=[\"r\",\"b\"])\n",
    "    def RMSError(self,X,y):\n",
    "        y_pred=np.where((self.Kernel(X,self.W)>0),1,-1)\n",
    "        return np.mean((y-y_pred)**2)\n",
    "    def fit(self,X,y,alpha=0.0001,epochs=500):\n",
    "        self.W=np.ones(X.shape[1])\n",
    "        for e in range(epochs):\n",
    "            self.W=self.W-alpha*self.gradient(X,y)\n",
    "    \n",
    "    def predict(self,X,D):\n",
    "        temp=self.Kernel(X,self.W)\n",
    "        return np.where(temp>0,D[1],D[-1])\n"
   ]
  },
  {
   "cell_type": "code",
   "execution_count": 117,
   "metadata": {
    "scrolled": false
   },
   "outputs": [
    {
     "name": "stdout",
     "output_type": "stream",
     "text": [
      "LINEAR KERNEL : RMS ERROR for training data =  0.0\n",
      "LINEAR KERNEL : RMS ERROR for testing data =  0.0\n",
      "\n",
      "\n",
      "POLYNOMIAL KERNEL with degree 2 : RMS ERROR for training data = 1.95\n",
      "POLYNOMIAL KERNEL with degree 2 : RMS ERROR for testing data = 1.95\n",
      "\n",
      "\n",
      "POLYNOMIAL KERNEL with degree 3 : RMS ERROR for training data = 0.0\n",
      "POLYNOMIAL KERNEL with degree 3 : RMS ERROR for testing data = 0.0\n",
      "\n",
      "\n",
      "POLYNOMIAL KERNEL with degree 4 : RMS ERROR for training data = 1.95\n",
      "POLYNOMIAL KERNEL with degree 4 : RMS ERROR for testing data = 1.95\n",
      "\n",
      "\n"
     ]
    },
    {
     "data": {
      "image/png": "[encoded data removed]",
      "text/plain": [
       "<Figure size 432x288 with 1 Axes>"
      ]
     },
     "metadata": {
      "needs_background": "light"
     },
     "output_type": "display_data"
    }
   ],
   "source": [
    "# ------------ preprocessing data ---------------------\n",
    "X=data.iloc[:,:-2].to_numpy()\n",
    "ones=np.ones((X.shape[0],1))\n",
    "X=np.concatenate((ones,X),axis=1)\n",
    "y=data.iloc[:,-1].to_numpy()\n",
    "D,y=ConvertTextLabeltoNumeric(y)\n",
    "X_train,y_train,X_test,y_test=SplitDataSet(X,y)\n",
    "\n",
    "# ----------------- LINEAR KERNEL SVM model -------------------\n",
    "model=SVM()\n",
    "model.fit(X_train,y_train)\n",
    "model.PlotBias(y_train)   # plotting number of +ve samples and number of -ve samples to check whether data is biased or not\n",
    "y_predict=model.predict(X_test,y_test)\n",
    "train_rms=model.RMSError(X_train,y_train)\n",
    "test_rms=model.RMSError(X_test,y_test)\n",
    "print(\"LINEAR KERNEL : RMS ERROR for training data = \",train_rms)\n",
    "print(\"LINEAR KERNEL : RMS ERROR for testing data = \",test_rms)\n",
    "print(\"\\n\")\n",
    "\n",
    "# ----------------- POLYNOMIAL KERNEL SVM model ------------\n",
    "for d in range(2,5):\n",
    "    model1=SVM(\"polynomial\",d)\n",
    "    model1.fit(X_train,y_train)\n",
    "    y_predict=model1.predict(X_test,y_test)\n",
    "    train_rms=model1.RMSError(X_train,y_train)\n",
    "    test_rms=model1.RMSError(X_test,y_test)\n",
    "    print(\"POLYNOMIAL KERNEL with degree {} : RMS ERROR for training data = {}\".format(d,train_rms))\n",
    "    print(\"POLYNOMIAL KERNEL with degree {} : RMS ERROR for testing data = {}\".format(d,train_rms))\n",
    "    print(\"\\n\")"
   ]
  },
  {
   "cell_type": "code",
   "execution_count": null,
   "metadata": {},
   "outputs": [],
   "source": []
  }
 ],
 "metadata": {
  "kernelspec": {
   "display_name": "Python 3 (ipykernel)",
   "language": "python",
   "name": "python3"
  },
  "language_info": {
   "codemirror_mode": {
    "name": "ipython",
    "version": 3
   },
   "file_extension": ".py",
   "mimetype": "text/x-python",
   "name": "python",
   "nbconvert_exporter": "python",
   "pygments_lexer": "ipython3",
   "version": "3.9.7"
  }
 },
 "nbformat": 4,
 "nbformat_minor": 4
}
