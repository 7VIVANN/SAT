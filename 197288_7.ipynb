{
 "cells": [
  {
   "cell_type": "markdown",
   "metadata": {
    "id": "bzd2N3YIvm7Y"
   },
   "source": [
    "**1. Simple Neural Network Model**"
   ]
  },
  {
   "cell_type": "code",
   "execution_count": 31,
   "metadata": {},
   "outputs": [],
   "source": [
    "import pandas as pd\n",
    "from sklearn.model_selection import train_test_split\n",
    "import tensorflow as tf\n",
    "from sklearn.preprocessing import MinMaxScaler\n",
    "from tensorflow.keras.losses import SparseCategoricalCrossentropy\n",
    "import seaborn as sns"
   ]
  },
  {
   "cell_type": "code",
   "execution_count": 32,
   "metadata": {},
   "outputs": [],
   "source": [
    "data = pd.read_csv(\"insurance_data.csv\")\n",
    "X = data.iloc[:,:-1]\n",
    "y = data.iloc[:,-1]\n",
    "X_train, X_test, y_train, y_test = train_test_split(X, y, test_size=0.2)\n",
    "scaler = MinMaxScaler()\n",
    "X_train = scaler.fit_transform(X_train)\n",
    "X_test = scaler.fit_transform(X_test)"
   ]
  },
  {
   "cell_type": "code",
   "execution_count": 33,
   "metadata": {},
   "outputs": [],
   "source": [
    "model = tf.keras.models.Sequential([\n",
    "    tf.keras.layers.Dense(24, activation='relu'),\n",
    "    tf.keras.layers.Dense(40, activation='sigmoid'),\n",
    "    tf.keras.layers.Dense(60, activation='relu')\n",
    "])"
   ]
  },
  {
   "cell_type": "code",
   "execution_count": 34,
   "metadata": {},
   "outputs": [],
   "source": [
    "model.compile(optimizer='adam',\n",
    "              loss=SparseCategoricalCrossentropy(from_logits=True),\n",
    "              metrics=['accuracy'])"
   ]
  },
  {
   "cell_type": "code",
   "execution_count": 35,
   "metadata": {},
   "outputs": [
    {
     "name": "stdout",
     "output_type": "stream",
     "text": [
      "Epoch 1/100\n",
      "1/1 [==============================] - 0s 383ms/step - loss: 4.3637 - accuracy: 0.0000e+00\n",
      "Epoch 2/100\n",
      "1/1 [==============================] - 0s 9ms/step - loss: 4.3493 - accuracy: 0.0000e+00\n",
      "Epoch 3/100\n",
      "1/1 [==============================] - 0s 10ms/step - loss: 4.3355 - accuracy: 0.0000e+00\n",
      "Epoch 4/100\n",
      "1/1 [==============================] - 0s 13ms/step - loss: 4.3221 - accuracy: 0.0000e+00\n",
      "Epoch 5/100\n",
      "1/1 [==============================] - 0s 11ms/step - loss: 4.3091 - accuracy: 0.0000e+00\n",
      "Epoch 6/100\n",
      "1/1 [==============================] - 0s 10ms/step - loss: 4.2963 - accuracy: 0.0000e+00\n",
      "Epoch 7/100\n",
      "1/1 [==============================] - 0s 8ms/step - loss: 4.2838 - accuracy: 0.0000e+00\n",
      "Epoch 8/100\n",
      "1/1 [==============================] - 0s 7ms/step - loss: 4.2715 - accuracy: 0.0000e+00\n",
      "Epoch 9/100\n",
      "1/1 [==============================] - 0s 8ms/step - loss: 4.2594 - accuracy: 0.0000e+00\n",
      "Epoch 10/100\n",
      "1/1 [==============================] - 0s 10ms/step - loss: 4.2479 - accuracy: 0.0000e+00\n",
      "Epoch 11/100\n",
      "1/1 [==============================] - 0s 11ms/step - loss: 4.2368 - accuracy: 0.0000e+00\n",
      "Epoch 12/100\n",
      "1/1 [==============================] - 0s 10ms/step - loss: 4.2263 - accuracy: 0.0000e+00\n",
      "Epoch 13/100\n",
      "1/1 [==============================] - 0s 7ms/step - loss: 4.2163 - accuracy: 0.0000e+00\n",
      "Epoch 14/100\n",
      "1/1 [==============================] - 0s 7ms/step - loss: 4.2069 - accuracy: 0.0000e+00\n",
      "Epoch 15/100\n",
      "1/1 [==============================] - 0s 8ms/step - loss: 4.1977 - accuracy: 0.0000e+00\n",
      "Epoch 16/100\n",
      "1/1 [==============================] - 0s 9ms/step - loss: 4.1891 - accuracy: 0.0000e+00\n",
      "Epoch 17/100\n",
      "1/1 [==============================] - 0s 6ms/step - loss: 4.1812 - accuracy: 0.0000e+00\n",
      "Epoch 18/100\n",
      "1/1 [==============================] - 0s 6ms/step - loss: 4.1739 - accuracy: 0.0000e+00\n",
      "Epoch 19/100\n",
      "1/1 [==============================] - 0s 8ms/step - loss: 4.1673 - accuracy: 0.0000e+00\n",
      "Epoch 20/100\n",
      "1/1 [==============================] - 0s 6ms/step - loss: 4.1615 - accuracy: 0.0000e+00\n",
      "Epoch 21/100\n",
      "1/1 [==============================] - 0s 8ms/step - loss: 4.1562 - accuracy: 0.0000e+00\n",
      "Epoch 22/100\n",
      "1/1 [==============================] - 0s 7ms/step - loss: 4.1514 - accuracy: 0.0000e+00\n",
      "Epoch 23/100\n",
      "1/1 [==============================] - 0s 5ms/step - loss: 4.1470 - accuracy: 0.0000e+00\n",
      "Epoch 24/100\n",
      "1/1 [==============================] - 0s 9ms/step - loss: 4.1431 - accuracy: 0.0000e+00\n",
      "Epoch 25/100\n",
      "1/1 [==============================] - 0s 7ms/step - loss: 4.1394 - accuracy: 0.0000e+00\n",
      "Epoch 26/100\n",
      "1/1 [==============================] - 0s 6ms/step - loss: 4.1359 - accuracy: 0.0000e+00\n",
      "Epoch 27/100\n",
      "1/1 [==============================] - 0s 7ms/step - loss: 4.1325 - accuracy: 0.0000e+00\n",
      "Epoch 28/100\n",
      "1/1 [==============================] - 0s 10ms/step - loss: 4.1292 - accuracy: 0.0000e+00\n",
      "Epoch 29/100\n",
      "1/1 [==============================] - 0s 11ms/step - loss: 4.1262 - accuracy: 0.0000e+00\n",
      "Epoch 30/100\n",
      "1/1 [==============================] - 0s 9ms/step - loss: 4.1234 - accuracy: 0.0000e+00\n",
      "Epoch 31/100\n",
      "1/1 [==============================] - 0s 7ms/step - loss: 4.1206 - accuracy: 0.0000e+00\n",
      "Epoch 32/100\n",
      "1/1 [==============================] - 0s 6ms/step - loss: 4.1179 - accuracy: 0.0000e+00\n",
      "Epoch 33/100\n",
      "1/1 [==============================] - 0s 10ms/step - loss: 4.1153 - accuracy: 0.0000e+00\n",
      "Epoch 34/100\n",
      "1/1 [==============================] - 0s 10ms/step - loss: 4.1130 - accuracy: 0.0000e+00\n",
      "Epoch 35/100\n",
      "1/1 [==============================] - 0s 9ms/step - loss: 4.1108 - accuracy: 0.0000e+00\n",
      "Epoch 36/100\n",
      "1/1 [==============================] - 0s 10ms/step - loss: 4.1088 - accuracy: 0.0000e+00\n",
      "Epoch 37/100\n",
      "1/1 [==============================] - 0s 7ms/step - loss: 4.1070 - accuracy: 0.0000e+00\n",
      "Epoch 38/100\n",
      "1/1 [==============================] - 0s 8ms/step - loss: 4.1055 - accuracy: 0.0000e+00\n",
      "Epoch 39/100\n",
      "1/1 [==============================] - 0s 9ms/step - loss: 4.1040 - accuracy: 0.0000e+00\n",
      "Epoch 40/100\n",
      "1/1 [==============================] - 0s 7ms/step - loss: 4.1028 - accuracy: 0.0000e+00\n",
      "Epoch 41/100\n",
      "1/1 [==============================] - 0s 6ms/step - loss: 4.1017 - accuracy: 0.0000e+00\n",
      "Epoch 42/100\n",
      "1/1 [==============================] - 0s 8ms/step - loss: 4.1007 - accuracy: 0.0000e+00\n",
      "Epoch 43/100\n",
      "1/1 [==============================] - 0s 8ms/step - loss: 4.0997 - accuracy: 0.0000e+00\n",
      "Epoch 44/100\n",
      "1/1 [==============================] - 0s 11ms/step - loss: 4.0987 - accuracy: 0.0000e+00\n",
      "Epoch 45/100\n",
      "1/1 [==============================] - 0s 11ms/step - loss: 4.0977 - accuracy: 0.0000e+00\n",
      "Epoch 46/100\n",
      "1/1 [==============================] - 0s 7ms/step - loss: 4.0969 - accuracy: 0.0000e+00\n",
      "Epoch 47/100\n",
      "1/1 [==============================] - 0s 6ms/step - loss: 4.0963 - accuracy: 0.0000e+00\n",
      "Epoch 48/100\n",
      "1/1 [==============================] - 0s 10ms/step - loss: 4.0957 - accuracy: 0.0000e+00\n",
      "Epoch 49/100\n",
      "1/1 [==============================] - 0s 9ms/step - loss: 4.0952 - accuracy: 0.0000e+00\n",
      "Epoch 50/100\n",
      "1/1 [==============================] - 0s 7ms/step - loss: 4.0949 - accuracy: 0.0000e+00\n",
      "Epoch 51/100\n",
      "1/1 [==============================] - 0s 5ms/step - loss: 4.0946 - accuracy: 0.0952\n",
      "Epoch 52/100\n",
      "1/1 [==============================] - 0s 7ms/step - loss: 4.0945 - accuracy: 0.3810\n",
      "Epoch 53/100\n",
      "1/1 [==============================] - 0s 10ms/step - loss: 4.0944 - accuracy: 0.3810\n",
      "Epoch 54/100\n",
      "1/1 [==============================] - 0s 6ms/step - loss: 4.0944 - accuracy: 0.3810\n",
      "Epoch 55/100\n",
      "1/1 [==============================] - 0s 3ms/step - loss: 4.0943 - accuracy: 0.5238\n",
      "Epoch 56/100\n",
      "1/1 [==============================] - 0s 10ms/step - loss: 4.0943 - accuracy: 0.5238\n",
      "Epoch 57/100\n",
      "1/1 [==============================] - 0s 8ms/step - loss: 4.0943 - accuracy: 0.5238\n",
      "Epoch 58/100\n",
      "1/1 [==============================] - 0s 11ms/step - loss: 4.0943 - accuracy: 0.5238\n",
      "Epoch 59/100\n",
      "1/1 [==============================] - 0s 7ms/step - loss: 4.0943 - accuracy: 0.5238\n",
      "Epoch 60/100\n",
      "1/1 [==============================] - 0s 7ms/step - loss: 4.0943 - accuracy: 0.5238\n",
      "Epoch 61/100\n",
      "1/1 [==============================] - 0s 8ms/step - loss: 4.0943 - accuracy: 0.5238\n",
      "Epoch 62/100\n",
      "1/1 [==============================] - 0s 5ms/step - loss: 4.0943 - accuracy: 0.5238\n",
      "Epoch 63/100\n",
      "1/1 [==============================] - 0s 7ms/step - loss: 4.0943 - accuracy: 0.5238\n",
      "Epoch 64/100\n",
      "1/1 [==============================] - 0s 6ms/step - loss: 4.0943 - accuracy: 0.5238\n",
      "Epoch 65/100\n",
      "1/1 [==============================] - 0s 7ms/step - loss: 4.0943 - accuracy: 0.5238\n",
      "Epoch 66/100\n",
      "1/1 [==============================] - 0s 14ms/step - loss: 4.0943 - accuracy: 0.5238\n",
      "Epoch 67/100\n",
      "1/1 [==============================] - 0s 7ms/step - loss: 4.0943 - accuracy: 0.5238\n",
      "Epoch 68/100\n",
      "1/1 [==============================] - 0s 7ms/step - loss: 4.0943 - accuracy: 0.5238\n",
      "Epoch 69/100\n",
      "1/1 [==============================] - 0s 9ms/step - loss: 4.0943 - accuracy: 0.5238\n",
      "Epoch 70/100\n",
      "1/1 [==============================] - 0s 8ms/step - loss: 4.0943 - accuracy: 0.4762\n",
      "Epoch 71/100\n",
      "1/1 [==============================] - 0s 5ms/step - loss: 4.0943 - accuracy: 0.5238\n",
      "Epoch 72/100\n",
      "1/1 [==============================] - 0s 7ms/step - loss: 4.0943 - accuracy: 0.5238\n",
      "Epoch 73/100\n",
      "1/1 [==============================] - 0s 8ms/step - loss: 4.0943 - accuracy: 0.5238\n",
      "Epoch 74/100\n",
      "1/1 [==============================] - 0s 8ms/step - loss: 4.0943 - accuracy: 0.5238\n",
      "Epoch 75/100\n",
      "1/1 [==============================] - 0s 5ms/step - loss: 4.0943 - accuracy: 0.5238\n",
      "Epoch 76/100\n",
      "1/1 [==============================] - 0s 7ms/step - loss: 4.0943 - accuracy: 0.5238\n",
      "Epoch 77/100\n",
      "1/1 [==============================] - 0s 10ms/step - loss: 4.0943 - accuracy: 0.5238\n",
      "Epoch 78/100\n",
      "1/1 [==============================] - 0s 6ms/step - loss: 4.0943 - accuracy: 0.5238\n",
      "Epoch 79/100\n",
      "1/1 [==============================] - 0s 7ms/step - loss: 4.0943 - accuracy: 0.5238\n",
      "Epoch 80/100\n",
      "1/1 [==============================] - 0s 7ms/step - loss: 4.0943 - accuracy: 0.5238\n",
      "Epoch 81/100\n",
      "1/1 [==============================] - 0s 7ms/step - loss: 4.0943 - accuracy: 0.5238\n",
      "Epoch 82/100\n"
     ]
    },
    {
     "name": "stdout",
     "output_type": "stream",
     "text": [
      "1/1 [==============================] - 0s 7ms/step - loss: 4.0943 - accuracy: 0.5238\n",
      "Epoch 83/100\n",
      "1/1 [==============================] - 0s 6ms/step - loss: 4.0943 - accuracy: 0.5238\n",
      "Epoch 84/100\n",
      "1/1 [==============================] - 0s 6ms/step - loss: 4.0943 - accuracy: 0.5238\n",
      "Epoch 85/100\n",
      "1/1 [==============================] - 0s 7ms/step - loss: 4.0943 - accuracy: 0.5238\n",
      "Epoch 86/100\n",
      "1/1 [==============================] - 0s 7ms/step - loss: 4.0943 - accuracy: 0.5238\n",
      "Epoch 87/100\n",
      "1/1 [==============================] - 0s 5ms/step - loss: 4.0943 - accuracy: 0.5238\n",
      "Epoch 88/100\n",
      "1/1 [==============================] - 0s 6ms/step - loss: 4.0943 - accuracy: 0.5238\n",
      "Epoch 89/100\n",
      "1/1 [==============================] - 0s 6ms/step - loss: 4.0943 - accuracy: 0.5238\n",
      "Epoch 90/100\n",
      "1/1 [==============================] - 0s 4ms/step - loss: 4.0943 - accuracy: 0.5238\n",
      "Epoch 91/100\n",
      "1/1 [==============================] - 0s 6ms/step - loss: 4.0943 - accuracy: 0.5238\n",
      "Epoch 92/100\n",
      "1/1 [==============================] - 0s 4ms/step - loss: 4.0943 - accuracy: 0.5238\n",
      "Epoch 93/100\n",
      "1/1 [==============================] - 0s 7ms/step - loss: 4.0943 - accuracy: 0.5238\n",
      "Epoch 94/100\n",
      "1/1 [==============================] - 0s 5ms/step - loss: 4.0943 - accuracy: 0.5238\n",
      "Epoch 95/100\n",
      "1/1 [==============================] - 0s 5ms/step - loss: 4.0943 - accuracy: 0.5238\n",
      "Epoch 96/100\n",
      "1/1 [==============================] - 0s 9ms/step - loss: 4.0943 - accuracy: 0.5238\n",
      "Epoch 97/100\n",
      "1/1 [==============================] - 0s 7ms/step - loss: 4.0943 - accuracy: 0.5238\n",
      "Epoch 98/100\n",
      "1/1 [==============================] - 0s 7ms/step - loss: 4.0943 - accuracy: 0.5238\n",
      "Epoch 99/100\n",
      "1/1 [==============================] - 0s 5ms/step - loss: 4.0943 - accuracy: 0.5238\n",
      "Epoch 100/100\n",
      "1/1 [==============================] - 0s 5ms/step - loss: 4.0943 - accuracy: 0.5238\n"
     ]
    },
    {
     "data": {
      "text/plain": [
       "<keras.callbacks.History at 0x204a85c7610>"
      ]
     },
     "execution_count": 35,
     "metadata": {},
     "output_type": "execute_result"
    }
   ],
   "source": [
    "model.fit(X_train, y_train, epochs=100)"
   ]
  },
  {
   "cell_type": "code",
   "execution_count": 36,
   "metadata": {},
   "outputs": [
    {
     "name": "stdout",
     "output_type": "stream",
     "text": [
      "1/1 [==============================] - 0s 113ms/step - loss: 4.0943 - accuracy: 0.3333\n"
     ]
    },
    {
     "data": {
      "text/plain": [
       "[4.094344615936279, 0.3333333432674408]"
      ]
     },
     "execution_count": 36,
     "metadata": {},
     "output_type": "execute_result"
    }
   ],
   "source": [
    "model.evaluate(x = X_test, y = y_test)"
   ]
  },
  {
   "cell_type": "code",
   "execution_count": 37,
   "metadata": {},
   "outputs": [],
   "source": [
    "predictions = model.predict(X_test)\n",
    "y_pred = np.argmax(predictions,1)"
   ]
  },
  {
   "cell_type": "code",
   "execution_count": 38,
   "metadata": {},
   "outputs": [
    {
     "data": {
      "image/png": "[encoded data removed]",
      "text/plain": [
       "<Figure size 504x432 with 2 Axes>"
      ]
     },
     "metadata": {
      "needs_background": "light"
     },
     "output_type": "display_data"
    }
   ],
   "source": [
    "fig, ax = plt.subplots(figsize=(7,6))\n",
    "sns.heatmap(ax=ax,data=confusion_matrix(y_test, y_pred), cmap=\"YlGnBu\",annot=True, fmt=\"d\" )\n",
    "ax.set_xlabel(\"Y_pred\",fontweight='bold')\n",
    "ax.set_ylabel(\"Y_true\",fontweight='bold')\n",
    "plt.title('Testing Confusion Matrix',fontweight='bold')\n",
    "plt.show()"
   ]
  },
  {
   "cell_type": "code",
   "execution_count": null,
   "metadata": {},
   "outputs": [],
   "source": []
  }
 ],
 "metadata": {
  "colab": {
   "collapsed_sections": [],
   "name": "197279_Assignment7.ipynb",
   "provenance": []
  },
  "kernelspec": {
   "display_name": "Python 3 (ipykernel)",
   "language": "python",
   "name": "python3"
  },
  "language_info": {
   "codemirror_mode": {
    "name": "ipython",
    "version": 3
   },
   "file_extension": ".py",
   "mimetype": "text/x-python",
   "name": "python",
   "nbconvert_exporter": "python",
   "pygments_lexer": "ipython3",
   "version": "3.9.7"
  }
 },
 "nbformat": 4,
 "nbformat_minor": 1
}
