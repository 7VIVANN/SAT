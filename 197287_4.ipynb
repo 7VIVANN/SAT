{
 "cells": [
  {
   "cell_type": "code",
   "execution_count": 201,
   "id": "9b00b200",
   "metadata": {},
   "outputs": [],
   "source": [
    "#importing all necessary libraries\n",
    "import pandas as pd\n",
    "import numpy as np\n",
    "import random\n",
    "import matplotlib.pyplot as plt\n",
    "import seaborn as sns"
   ]
  },
  {
   "cell_type": "code",
   "execution_count": 202,
   "id": "b1faaaf2",
   "metadata": {},
   "outputs": [
    {
     "data": {
      "text/html": [
       "<div>\n",
       "<style scoped>\n",
       "    .dataframe tbody tr th:only-of-type {\n",
       "        vertical-align: middle;\n",
       "    }\n",
       "\n",
       "    .dataframe tbody tr th {\n",
       "        vertical-align: top;\n",
       "    }\n",
       "\n",
       "    .dataframe thead th {\n",
       "        text-align: right;\n",
       "    }\n",
       "</style>\n",
       "<table border=\"1\" class=\"dataframe\">\n",
       "  <thead>\n",
       "    <tr style=\"text-align: right;\">\n",
       "      <th></th>\n",
       "      <th>Position</th>\n",
       "      <th>Level</th>\n",
       "      <th>Salary</th>\n",
       "    </tr>\n",
       "  </thead>\n",
       "  <tbody>\n",
       "    <tr>\n",
       "      <th>0</th>\n",
       "      <td>Business Analyst</td>\n",
       "      <td>1</td>\n",
       "      <td>45000</td>\n",
       "    </tr>\n",
       "    <tr>\n",
       "      <th>1</th>\n",
       "      <td>Junior Consultant</td>\n",
       "      <td>2</td>\n",
       "      <td>50000</td>\n",
       "    </tr>\n",
       "    <tr>\n",
       "      <th>2</th>\n",
       "      <td>Senior Consultant</td>\n",
       "      <td>3</td>\n",
       "      <td>60000</td>\n",
       "    </tr>\n",
       "    <tr>\n",
       "      <th>3</th>\n",
       "      <td>Manager</td>\n",
       "      <td>4</td>\n",
       "      <td>80000</td>\n",
       "    </tr>\n",
       "    <tr>\n",
       "      <th>4</th>\n",
       "      <td>Country Manager</td>\n",
       "      <td>5</td>\n",
       "      <td>110000</td>\n",
       "    </tr>\n",
       "    <tr>\n",
       "      <th>5</th>\n",
       "      <td>Region Manager</td>\n",
       "      <td>6</td>\n",
       "      <td>150000</td>\n",
       "    </tr>\n",
       "    <tr>\n",
       "      <th>6</th>\n",
       "      <td>Partner</td>\n",
       "      <td>7</td>\n",
       "      <td>200000</td>\n",
       "    </tr>\n",
       "    <tr>\n",
       "      <th>7</th>\n",
       "      <td>Senior Partner</td>\n",
       "      <td>8</td>\n",
       "      <td>300000</td>\n",
       "    </tr>\n",
       "    <tr>\n",
       "      <th>8</th>\n",
       "      <td>C-level</td>\n",
       "      <td>9</td>\n",
       "      <td>500000</td>\n",
       "    </tr>\n",
       "    <tr>\n",
       "      <th>9</th>\n",
       "      <td>CEO</td>\n",
       "      <td>10</td>\n",
       "      <td>1000000</td>\n",
       "    </tr>\n",
       "  </tbody>\n",
       "</table>\n",
       "</div>"
      ],
      "text/plain": [
       "            Position  Level   Salary\n",
       "0   Business Analyst      1    45000\n",
       "1  Junior Consultant      2    50000\n",
       "2  Senior Consultant      3    60000\n",
       "3            Manager      4    80000\n",
       "4    Country Manager      5   110000\n",
       "5     Region Manager      6   150000\n",
       "6            Partner      7   200000\n",
       "7     Senior Partner      8   300000\n",
       "8            C-level      9   500000\n",
       "9                CEO     10  1000000"
      ]
     },
     "execution_count": 202,
     "metadata": {},
     "output_type": "execute_result"
    }
   ],
   "source": [
    "data=pd.read_csv(\"Position_Salaries.csv\")\n",
    "data"
   ]
  },
  {
   "cell_type": "code",
   "execution_count": 203,
   "id": "00f6f0c9",
   "metadata": {},
   "outputs": [],
   "source": [
    "X=data[\"Level\"].to_numpy()  # we can see that column position and level have correlation 1 \n",
    "# therefore no need to consider position \n",
    "y=data[\"Salary\"].to_numpy()"
   ]
  },
  {
   "cell_type": "code",
   "execution_count": 204,
   "id": "5bd00240",
   "metadata": {},
   "outputs": [],
   "source": [
    "class PolynomialRegression():\n",
    "    def __init__(self,poly_features):\n",
    "        self.nf=poly_features\n",
    "        self.theta=np.random.random(self.nf)\n",
    "    def getH(self,X):\n",
    "        n=X.shape[0]\n",
    "        h=np.zeros(n)\n",
    "        for i in range(n):\n",
    "            for j in range(self.nf):\n",
    "                h[i]+=(X[i]**j)*(self.theta[j])\n",
    "        return h\n",
    "    def GetRMSError(self,X,y):\n",
    "        h=self.getH(X)\n",
    "        cost=np.sqrt(np.mean((h-y)**2))\n",
    "        return cost\n",
    "    def Gradient_Descent(self,X,y,num_iters,alpha):\n",
    "        h=self.getH(X)\n",
    "        n=X.shape[0]\n",
    "        for i in range(num_iters):\n",
    "            for j in range(self.nf):\n",
    "                self.theta[j]=self.theta[j]-(alpha)*np.mean((h-y)*(X**j));\n",
    "            h=self.getH(X)\n",
    "#             print(\"cost in iteration {} : {}\".format(i,self.GetRMSError(X,y)))\n",
    "        return self.theta\n",
    "    def plot(self,X,y):\n",
    "        fig=plt.figure(figsize=(5,5))\n",
    "        plt.scatter(X,y)\n",
    "        y_pred=self.getH(X)\n",
    "        plt.plot(X,y_pred,color=\"r\")\n",
    "    def fit(self,X,y,num_iters=10000,alpha=0.001):\n",
    "        return self.Gradient_Descent(X,y,num_iters,alpha);\n",
    "    def Predict(self,X):\n",
    "        return self.getH(X)"
   ]
  },
  {
   "cell_type": "code",
   "execution_count": 205,
   "id": "d04423ab",
   "metadata": {},
   "outputs": [
    {
     "data": {
      "image/png": "[encoded data removed]",
      "text/plain": [
       "<Figure size 360x360 with 1 Axes>"
      ]
     },
     "metadata": {
      "needs_background": "light"
     },
     "output_type": "display_data"
    }
   ],
   "source": [
    "pr=PolynomialRegression(poly_features=4)\n",
    "theta=pr.fit(X,y,100,0.0000001) # fitting model\n",
    "cost=pr.GetRMSError(X,y) # getting rms error\n",
    "pr.plot(X,y) # plotting data"
   ]
  },
  {
   "cell_type": "code",
   "execution_count": 206,
   "id": "288a04ff",
   "metadata": {},
   "outputs": [
    {
     "name": "stdout",
     "output_type": "stream",
     "text": [
      "Rms error :96905.50189933354\n"
     ]
    }
   ],
   "source": [
    "print(\"Rms error :{}\".format(cost))"
   ]
  }
 ],
 "metadata": {
  "kernelspec": {
   "display_name": "Python 3 (ipykernel)",
   "language": "python",
   "name": "python3"
  },
  "language_info": {
   "codemirror_mode": {
    "name": "ipython",
    "version": 3
   },
   "file_extension": ".py",
   "mimetype": "text/x-python",
   "name": "python",
   "nbconvert_exporter": "python",
   "pygments_lexer": "ipython3",
   "version": "3.9.7"
  }
 },
 "nbformat": 4,
 "nbformat_minor": 5
}
